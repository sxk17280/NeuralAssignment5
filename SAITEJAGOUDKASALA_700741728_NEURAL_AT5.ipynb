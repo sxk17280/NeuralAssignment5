{
  "nbformat": 4,
  "nbformat_minor": 0,
  "metadata": {
    "colab": {
      "provenance": []
    },
    "kernelspec": {
      "name": "python3",
      "display_name": "Python 3"
    },
    "language_info": {
      "name": "python"
    }
  },
  "cells": [
    {
      "cell_type": "code",
      "execution_count": 1,
      "metadata": {
        "id": "CcMUu7OsPldA"
      },
      "outputs": [],
      "source": [
        "import pandas as pd #Basic packages for creating dataframes and loading dataset\n",
        "import numpy as np\n",
        "\n",
        "import matplotlib.pyplot as plt #Package for visualization\n",
        "\n",
        "import re #importing package for Regular expression operations\n",
        "\n",
        "from sklearn.model_selection import train_test_split #Package for splitting the data\n",
        "\n",
        "from sklearn.preprocessing import LabelEncoder #Package for conversion of categorical to Numerical\n",
        "\n",
        "from keras.preprocessing.text import Tokenizer #Tokenization\n",
        "from tensorflow.keras.preprocessing.sequence import pad_sequences #Add zeros or crop based on the length\n",
        "from keras.models import Sequential #Sequential Neural Network\n",
        "from keras.layers import Dense, Embedding, LSTM, SpatialDropout1D #For layers in Neural Network\n",
        "from keras.utils.np_utils import to_categorical"
      ]
    },
    {
      "cell_type": "code",
      "source": [
        "from google.colab import drive\n",
        "drive.mount('/content/gdrive')"
      ],
      "metadata": {
        "colab": {
          "base_uri": "https://localhost:8080/"
        },
        "id": "Qd6A9nGaPxax",
        "outputId": "e3a11bbf-7d52-46f9-81a1-eef44fa1a6df"
      },
      "execution_count": 2,
      "outputs": [
        {
          "output_type": "stream",
          "name": "stdout",
          "text": [
            "Mounted at /content/gdrive\n"
          ]
        }
      ]
    },
    {
      "cell_type": "code",
      "source": [
        "import pandas as pd\n",
        "\n",
        "# Load the dataset as a Pandas DataFrame\n",
        "dataset = pd.read_csv('/content/Sentiment (1).csv')\n",
        "\n",
        "# Select only the necessary columns 'text' and 'sentiment'\n",
        "mask = dataset.columns.isin(['text', 'sentiment'])\n",
        "data = dataset.loc[:, mask]\n",
        "\n",
        "# Keeping only the necessary columns\n",
        "data['text'] = data['text'].apply(lambda x: x.lower())\n",
        "data['text'] = data['text'].apply((lambda x: re.sub('[^a-zA-z0-9\\s]', '', x)))"
      ],
      "metadata": {
        "colab": {
          "base_uri": "https://localhost:8080/"
        },
        "id": "kYqSBsl_P2OF",
        "outputId": "6dfa12fb-d8a4-4676-bb8d-93cbea232aab"
      },
      "execution_count": 3,
      "outputs": [
        {
          "output_type": "stream",
          "name": "stderr",
          "text": [
            "<ipython-input-3-a9465a1f0d22>:11: SettingWithCopyWarning: \n",
            "A value is trying to be set on a copy of a slice from a DataFrame.\n",
            "Try using .loc[row_indexer,col_indexer] = value instead\n",
            "\n",
            "See the caveats in the documentation: https://pandas.pydata.org/pandas-docs/stable/user_guide/indexing.html#returning-a-view-versus-a-copy\n",
            "  data['text'] = data['text'].apply(lambda x: x.lower())\n",
            "<ipython-input-3-a9465a1f0d22>:12: SettingWithCopyWarning: \n",
            "A value is trying to be set on a copy of a slice from a DataFrame.\n",
            "Try using .loc[row_indexer,col_indexer] = value instead\n",
            "\n",
            "See the caveats in the documentation: https://pandas.pydata.org/pandas-docs/stable/user_guide/indexing.html#returning-a-view-versus-a-copy\n",
            "  data['text'] = data['text'].apply((lambda x: re.sub('[^a-zA-z0-9\\s]', '', x)))\n"
          ]
        }
      ]
    },
    {
      "cell_type": "code",
      "source": [
        "for idx, row in data.iterrows():\n",
        "    row[0] = row[0].replace('rt', ' ') #Removing Retweets\n",
        "    max_fatures = 2000\n",
        "tokenizer = Tokenizer(num_words=max_fatures, split=' ') #Maximum words is 2000 to tokenize sentence\n",
        "tokenizer.fit_on_texts(data['text'].values)\n",
        "X = tokenizer.texts_to_sequences(data['text'].values) #taking values to feature matrix\n",
        "X = pad_sequences(X) #Padding the feature matrix\n",
        "\n",
        "embed_dim = 128 #Dimension of the Embedded layer\n",
        "lstm_out = 196 #Long short-term memory (LSTM) layer neurons\n",
        "def createmodel():\n",
        "    model = Sequential() #Sequential Neural Network\n",
        "    model.add(Embedding(max_fatures, embed_dim,input_length = X.shape[1])) #input dimension 2000 Neurons, output dimension 128 Neurons\n",
        "    model.add(LSTM(lstm_out, dropout=0.2, recurrent_dropout=0.2)) #Drop out 20%, 196 output Neurons, recurrent dropout 20%\n",
        "    model.add(Dense(3,activation='softmax')) #3 output neurons[positive, Neutral, Negative], softmax as activation\n",
        "    model.compile(loss = 'categorical_crossentropy', optimizer='adam',metrics = ['accuracy']) #Compiling the model\n",
        "    return model\n",
        "# print(model.summary())\n",
        "labelencoder = LabelEncoder() #Applying label Encoding on the label matrix\n",
        "integer_encoded = labelencoder.fit_transform(data['sentiment']) #fitting the model\n",
        "y = to_categorical(integer_encoded)\n",
        "X_train, X_test, Y_train, Y_test = train_test_split(X,y, test_size = 0.33, random_state = 42) #67% training data, 33% test data split\n",
        "batch_size = 32 #Batch size 32\n",
        "model = createmodel() #Function call to Sequential Neural Network\n",
        "model.fit(X_train, Y_train, epochs = 1, batch_size=batch_size, verbose = 2) #verbose the higher, the more messages\n",
        "score,acc = model.evaluate(X_test,Y_test,verbose=2,batch_size=batch_size) #evaluating the model\n",
        "print(score)\n",
        "print(acc)"
      ],
      "metadata": {
        "colab": {
          "base_uri": "https://localhost:8080/"
        },
        "id": "5u2UZq98P9Z8",
        "outputId": "d8afdc79-e621-4617-a6f0-3c032524ea0d"
      },
      "execution_count": 4,
      "outputs": [
        {
          "output_type": "stream",
          "name": "stdout",
          "text": [
            "291/291 - 47s - loss: 0.8196 - accuracy: 0.6490 - 47s/epoch - 161ms/step\n",
            "144/144 - 3s - loss: 0.7530 - accuracy: 0.6719 - 3s/epoch - 18ms/step\n",
            "0.7529774308204651\n",
            "0.6719091534614563\n"
          ]
        }
      ]
    },
    {
      "cell_type": "code",
      "source": [
        "print(model.metrics_names) #metrics of the model"
      ],
      "metadata": {
        "colab": {
          "base_uri": "https://localhost:8080/"
        },
        "id": "0qHSTUdAQBoW",
        "outputId": "7d43f4de-69a6-4cd8-bcfe-8443877914e3"
      },
      "execution_count": 5,
      "outputs": [
        {
          "output_type": "stream",
          "name": "stdout",
          "text": [
            "['loss', 'accuracy']\n"
          ]
        }
      ]
    },
    {
      "cell_type": "code",
      "source": [
        "model.save('sentimentAnalysis.h5') #Saving the model"
      ],
      "metadata": {
        "id": "y4IKnVG1Qc-J"
      },
      "execution_count": 6,
      "outputs": []
    },
    {
      "cell_type": "code",
      "source": [
        "from keras.models import load_model #Importing the package for importing the saved model\n",
        "model= load_model('sentimentAnalysis.h5') #loading the saved model\n",
        ""
      ],
      "metadata": {
        "id": "f6YvfMjdQjka"
      },
      "execution_count": 7,
      "outputs": []
    },
    {
      "cell_type": "code",
      "source": [
        "print(integer_encoded)\n",
        "print(data['sentiment'])\n",
        ""
      ],
      "metadata": {
        "colab": {
          "base_uri": "https://localhost:8080/"
        },
        "id": "YbOMF1klQnYE",
        "outputId": "7d6e8311-fd59-49e6-c38b-984d56061b5d"
      },
      "execution_count": 8,
      "outputs": [
        {
          "output_type": "stream",
          "name": "stdout",
          "text": [
            "[1 2 1 ... 2 0 2]\n",
            "0         Neutral\n",
            "1        Positive\n",
            "2         Neutral\n",
            "3        Positive\n",
            "4        Positive\n",
            "           ...   \n",
            "13866    Negative\n",
            "13867    Positive\n",
            "13868    Positive\n",
            "13869    Negative\n",
            "13870    Positive\n",
            "Name: sentiment, Length: 13871, dtype: object\n"
          ]
        }
      ]
    },
    {
      "cell_type": "code",
      "source": [
        "# Predicting on the text data\n",
        "sentence = ['A lot of good things are happening. We are respected again throughout the world, and that is a great thing.@realDonaldTrump']\n",
        "sentence = tokenizer.texts_to_sequences(sentence) # Tokenizing the sentence\n",
        "sentence = pad_sequences(sentence, maxlen=28, dtype='int32', value=0) # Padding the sentence\n",
        "sentiment_probs = model.predict(sentence, batch_size=1, verbose=2)[0] # Predicting the sentence text\n",
        "sentiment = np.argmax(sentiment_probs)\n",
        "\n",
        "print(sentiment_probs)\n",
        "if sentiment == 0:\n",
        "    print(\"Neutral\")\n",
        "elif sentiment < 0:\n",
        "    print(\"Negative\")\n",
        "elif sentiment > 0:\n",
        "    print(\"Positive\")\n",
        "else:\n",
        "    print(\"Cannot be determined\")"
      ],
      "metadata": {
        "colab": {
          "base_uri": "https://localhost:8080/"
        },
        "id": "84b8HJ-7QqFu",
        "outputId": "05ea3c1f-5c32-4cc0-d468-651f7b414b47"
      },
      "execution_count": 9,
      "outputs": [
        {
          "output_type": "stream",
          "name": "stdout",
          "text": [
            "1/1 - 1s - 819ms/epoch - 819ms/step\n",
            "[0.7974025  0.07736887 0.12522863]\n",
            "Neutral\n"
          ]
        }
      ]
    },
    {
      "cell_type": "code",
      "source": [
        "#2. Apply GridSearchCV on the source code provided in the class\n",
        "from keras.wrappers.scikit_learn import KerasClassifier #importing Keras classifier\n",
        "from sklearn.model_selection import GridSearchCV #importing Grid search CV\n",
        "\n",
        "model = KerasClassifier(build_fn=createmodel,verbose=2) #initiating model to test performance by applying multiple hyper parameters\n",
        "batch_size= [10, 20, 40] #hyper parameter batch_size\n",
        "epochs = [1, 2] #hyper parameter no. of epochs\n",
        "param_grid= {'batch_size':batch_size, 'epochs':epochs} #creating dictionary for batch size, no. of epochs\n",
        "grid  = GridSearchCV(estimator=model, param_grid=param_grid) #Applying dictionary with hyper parameters\n",
        "grid_result= grid.fit(X_train,Y_train) #Fitting the model\n",
        "# summarize results\n",
        "print(\"Best: %f using %s\" % (grid_result.best_score_, grid_result.best_params_)) #best score, best hyper paramete"
      ],
      "metadata": {
        "colab": {
          "base_uri": "https://localhost:8080/"
        },
        "id": "NSEj1lPPQuOq",
        "outputId": "4f7b54c7-01e8-4c1d-9427-ec855f70ddd8"
      },
      "execution_count": 10,
      "outputs": [
        {
          "metadata": {
            "tags": null
          },
          "name": "stderr",
          "output_type": "stream",
          "text": [
            "<ipython-input-10-4de49b1683a8>:5: DeprecationWarning: KerasClassifier is deprecated, use Sci-Keras (https://github.com/adriangb/scikeras) instead. See https://www.adriangb.com/scikeras/stable/migration.html for help migrating.\n",
            "  model = KerasClassifier(build_fn=createmodel,verbose=2) #initiating model to test performance by applying multiple hyper parameters\n"
          ]
        },
        {
          "output_type": "stream",
          "name": "stdout",
          "text": [
            "744/744 - 100s - loss: 0.8288 - accuracy: 0.6460 - 100s/epoch - 134ms/step\n",
            "186/186 - 2s - loss: 0.8049 - accuracy: 0.6659 - 2s/epoch - 12ms/step\n",
            "744/744 - 96s - loss: 0.8204 - accuracy: 0.6469 - 96s/epoch - 128ms/step\n",
            "186/186 - 4s - loss: 0.7643 - accuracy: 0.6719 - 4s/epoch - 23ms/step\n",
            "744/744 - 92s - loss: 0.8254 - accuracy: 0.6476 - 92s/epoch - 124ms/step\n",
            "186/186 - 3s - loss: 0.7636 - accuracy: 0.6815 - 3s/epoch - 16ms/step\n",
            "744/744 - 92s - loss: 0.8216 - accuracy: 0.6516 - 92s/epoch - 124ms/step\n",
            "186/186 - 3s - loss: 0.7447 - accuracy: 0.6825 - 3s/epoch - 15ms/step\n",
            "744/744 - 95s - loss: 0.8198 - accuracy: 0.6496 - 95s/epoch - 128ms/step\n",
            "186/186 - 2s - loss: 0.7848 - accuracy: 0.6550 - 2s/epoch - 12ms/step\n",
            "Epoch 1/2\n",
            "744/744 - 93s - loss: 0.8292 - accuracy: 0.6447 - 93s/epoch - 125ms/step\n",
            "Epoch 2/2\n",
            "744/744 - 99s - loss: 0.6826 - accuracy: 0.7077 - 99s/epoch - 133ms/step\n",
            "186/186 - 4s - loss: 0.7389 - accuracy: 0.6789 - 4s/epoch - 19ms/step\n",
            "Epoch 1/2\n",
            "744/744 - 93s - loss: 0.8212 - accuracy: 0.6473 - 93s/epoch - 124ms/step\n",
            "Epoch 2/2\n",
            "744/744 - 89s - loss: 0.6829 - accuracy: 0.7070 - 89s/epoch - 120ms/step\n",
            "186/186 - 4s - loss: 0.7354 - accuracy: 0.6762 - 4s/epoch - 21ms/step\n",
            "Epoch 1/2\n",
            "744/744 - 90s - loss: 0.8253 - accuracy: 0.6419 - 90s/epoch - 122ms/step\n",
            "Epoch 2/2\n",
            "744/744 - 88s - loss: 0.6783 - accuracy: 0.7128 - 88s/epoch - 118ms/step\n",
            "186/186 - 2s - loss: 0.7451 - accuracy: 0.6783 - 2s/epoch - 13ms/step\n",
            "Epoch 1/2\n",
            "744/744 - 91s - loss: 0.8189 - accuracy: 0.6496 - 91s/epoch - 122ms/step\n",
            "Epoch 2/2\n",
            "744/744 - 90s - loss: 0.6722 - accuracy: 0.7137 - 90s/epoch - 121ms/step\n",
            "186/186 - 2s - loss: 0.7499 - accuracy: 0.6798 - 2s/epoch - 12ms/step\n",
            "Epoch 1/2\n",
            "744/744 - 90s - loss: 0.8162 - accuracy: 0.6459 - 90s/epoch - 121ms/step\n",
            "Epoch 2/2\n",
            "744/744 - 89s - loss: 0.6692 - accuracy: 0.7186 - 89s/epoch - 120ms/step\n",
            "186/186 - 2s - loss: 0.7765 - accuracy: 0.6690 - 2s/epoch - 11ms/step\n",
            "372/372 - 53s - loss: 0.8334 - accuracy: 0.6394 - 53s/epoch - 141ms/step\n",
            "93/93 - 2s - loss: 0.7426 - accuracy: 0.6686 - 2s/epoch - 20ms/step\n",
            "372/372 - 53s - loss: 0.8272 - accuracy: 0.6465 - 53s/epoch - 141ms/step\n",
            "93/93 - 2s - loss: 0.7858 - accuracy: 0.6547 - 2s/epoch - 21ms/step\n",
            "372/372 - 51s - loss: 0.8261 - accuracy: 0.6429 - 51s/epoch - 138ms/step\n",
            "93/93 - 2s - loss: 0.7658 - accuracy: 0.6778 - 2s/epoch - 17ms/step\n",
            "372/372 - 52s - loss: 0.8352 - accuracy: 0.6420 - 52s/epoch - 140ms/step\n",
            "93/93 - 2s - loss: 0.7532 - accuracy: 0.6728 - 2s/epoch - 17ms/step\n",
            "372/372 - 54s - loss: 0.8251 - accuracy: 0.6363 - 54s/epoch - 144ms/step\n",
            "93/93 - 2s - loss: 0.7789 - accuracy: 0.6598 - 2s/epoch - 17ms/step\n",
            "Epoch 1/2\n",
            "372/372 - 53s - loss: 0.8304 - accuracy: 0.6411 - 53s/epoch - 143ms/step\n",
            "Epoch 2/2\n",
            "372/372 - 49s - loss: 0.6809 - accuracy: 0.7101 - 49s/epoch - 131ms/step\n",
            "93/93 - 2s - loss: 0.7437 - accuracy: 0.6772 - 2s/epoch - 25ms/step\n",
            "Epoch 1/2\n",
            "372/372 - 52s - loss: 0.8292 - accuracy: 0.6414 - 52s/epoch - 139ms/step\n",
            "Epoch 2/2\n",
            "372/372 - 50s - loss: 0.6902 - accuracy: 0.7080 - 50s/epoch - 135ms/step\n",
            "93/93 - 2s - loss: 0.7437 - accuracy: 0.6783 - 2s/epoch - 17ms/step\n",
            "Epoch 1/2\n",
            "372/372 - 53s - loss: 0.8294 - accuracy: 0.6438 - 53s/epoch - 142ms/step\n",
            "Epoch 2/2\n",
            "372/372 - 48s - loss: 0.6816 - accuracy: 0.7078 - 48s/epoch - 129ms/step\n",
            "93/93 - 2s - loss: 0.7602 - accuracy: 0.6794 - 2s/epoch - 17ms/step\n",
            "Epoch 1/2\n",
            "372/372 - 52s - loss: 0.8388 - accuracy: 0.6377 - 52s/epoch - 140ms/step\n",
            "Epoch 2/2\n",
            "372/372 - 49s - loss: 0.6803 - accuracy: 0.7111 - 49s/epoch - 131ms/step\n",
            "93/93 - 2s - loss: 0.7424 - accuracy: 0.6755 - 2s/epoch - 17ms/step\n",
            "Epoch 1/2\n",
            "372/372 - 54s - loss: 0.8331 - accuracy: 0.6432 - 54s/epoch - 145ms/step\n",
            "Epoch 2/2\n",
            "372/372 - 48s - loss: 0.6729 - accuracy: 0.7112 - 48s/epoch - 129ms/step\n",
            "93/93 - 2s - loss: 0.7844 - accuracy: 0.6685 - 2s/epoch - 17ms/step\n",
            "186/186 - 32s - loss: 0.8386 - accuracy: 0.6396 - 32s/epoch - 173ms/step\n",
            "47/47 - 2s - loss: 0.7501 - accuracy: 0.6708 - 2s/epoch - 43ms/step\n",
            "186/186 - 32s - loss: 0.8430 - accuracy: 0.6329 - 32s/epoch - 173ms/step\n",
            "47/47 - 1s - loss: 0.7711 - accuracy: 0.6740 - 1s/epoch - 25ms/step\n",
            "186/186 - 33s - loss: 0.8424 - accuracy: 0.6387 - 33s/epoch - 179ms/step\n",
            "47/47 - 1s - loss: 0.7798 - accuracy: 0.6778 - 1s/epoch - 25ms/step\n",
            "186/186 - 33s - loss: 0.8452 - accuracy: 0.6381 - 33s/epoch - 176ms/step\n",
            "47/47 - 2s - loss: 0.7629 - accuracy: 0.6803 - 2s/epoch - 40ms/step\n",
            "186/186 - 33s - loss: 0.8489 - accuracy: 0.6313 - 33s/epoch - 178ms/step\n",
            "47/47 - 1s - loss: 0.7969 - accuracy: 0.6507 - 1s/epoch - 25ms/step\n",
            "Epoch 1/2\n",
            "186/186 - 34s - loss: 0.8416 - accuracy: 0.6395 - 34s/epoch - 181ms/step\n",
            "Epoch 2/2\n",
            "186/186 - 30s - loss: 0.6877 - accuracy: 0.7081 - 30s/epoch - 159ms/step\n",
            "47/47 - 1s - loss: 0.7450 - accuracy: 0.6670 - 1s/epoch - 25ms/step\n",
            "Epoch 1/2\n",
            "186/186 - 32s - loss: 0.8413 - accuracy: 0.6369 - 32s/epoch - 171ms/step\n",
            "Epoch 2/2\n",
            "186/186 - 31s - loss: 0.6883 - accuracy: 0.7043 - 31s/epoch - 166ms/step\n",
            "47/47 - 1s - loss: 0.7466 - accuracy: 0.6794 - 1s/epoch - 29ms/step\n",
            "Epoch 1/2\n",
            "186/186 - 33s - loss: 0.8395 - accuracy: 0.6334 - 33s/epoch - 178ms/step\n",
            "Epoch 2/2\n",
            "186/186 - 32s - loss: 0.6924 - accuracy: 0.7063 - 32s/epoch - 170ms/step\n",
            "47/47 - 1s - loss: 0.7413 - accuracy: 0.6971 - 1s/epoch - 26ms/step\n",
            "Epoch 1/2\n",
            "186/186 - 33s - loss: 0.8492 - accuracy: 0.6299 - 33s/epoch - 179ms/step\n",
            "Epoch 2/2\n",
            "186/186 - 30s - loss: 0.6815 - accuracy: 0.7083 - 30s/epoch - 161ms/step\n",
            "47/47 - 1s - loss: 0.7415 - accuracy: 0.6814 - 1s/epoch - 24ms/step\n",
            "Epoch 1/2\n",
            "186/186 - 33s - loss: 0.8412 - accuracy: 0.6360 - 33s/epoch - 180ms/step\n",
            "Epoch 2/2\n",
            "186/186 - 30s - loss: 0.6769 - accuracy: 0.7099 - 30s/epoch - 159ms/step\n",
            "47/47 - 1s - loss: 0.8037 - accuracy: 0.6679 - 1s/epoch - 24ms/step\n",
            "Epoch 1/2\n",
            "233/233 - 40s - loss: 0.8338 - accuracy: 0.6374 - 40s/epoch - 173ms/step\n",
            "Epoch 2/2\n",
            "233/233 - 38s - loss: 0.6854 - accuracy: 0.7103 - 38s/epoch - 164ms/step\n",
            "Best: 0.678574 using {'batch_size': 40, 'epochs': 2}\n"
          ]
        }
      ]
    },
    {
      "cell_type": "code",
      "source": [],
      "metadata": {
        "id": "HGwQr-iuQ20K"
      },
      "execution_count": null,
      "outputs": []
    }
  ]
}